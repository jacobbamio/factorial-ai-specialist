{
 "cells": [
  {
   "cell_type": "code",
   "execution_count": 1,
   "metadata": {},
   "outputs": [],
   "source": [
    "from bs4 import BeautifulSoup\n",
    "from selenium import webdriver\n",
    "from selenium.webdriver.chrome.options import Options\n",
    "from selenium.webdriver.common.by import By\n",
    "import time\n",
    "import random\n",
    "import requests\n",
    "import re"
   ]
  },
  {
   "cell_type": "code",
   "execution_count": 2,
   "metadata": {},
   "outputs": [],
   "source": [
    "chrome_options = Options()\n",
    "chrome_options.add_argument(\"--disable-search-engine-choice-screen\")\n",
    "driver = webdriver.Chrome(chrome_options)"
   ]
  },
  {
   "cell_type": "code",
   "execution_count": 3,
   "metadata": {},
   "outputs": [],
   "source": [
    "url = \"https://careers.factorialhr.com\"\n",
    "driver.get(url)"
   ]
  },
  {
   "cell_type": "code",
   "execution_count": 4,
   "metadata": {},
   "outputs": [],
   "source": [
    "soup = BeautifulSoup(driver.page_source, 'html.parser')"
   ]
  },
  {
   "cell_type": "code",
   "execution_count": 6,
   "metadata": {},
   "outputs": [],
   "source": [
    "offers = soup.find_all(class_='outline-none text-center inline-block font-bold leading-xs rounded-sm text-xs px-6 py-2 buttonSecondary')"
   ]
  },
  {
   "cell_type": "code",
   "execution_count": 16,
   "metadata": {},
   "outputs": [],
   "source": [
    "links = [offer.get('href') for offer in offers if 'job_posting' in offer.get('href')]"
   ]
  },
  {
   "cell_type": "code",
   "execution_count": 50,
   "metadata": {},
   "outputs": [],
   "source": [
    "offers_to_db = {\"offers\":[]}\n",
    "\n",
    "for l in links:\n",
    "    driver.get(l)\n",
    "    time.sleep(2)\n",
    "    soup = BeautifulSoup(driver.page_source, 'html.parser')\n",
    "    conditions = {i.text.strip() for i in soup.find_all(class_='inline-block align-middle mr-2 ml-2')}\n",
    "    offer = [i.text for i in soup.find_all(class_=re.compile(r'TextEditorTheme__paragraph|TextEditorTheme__listItem'))]\n",
    "    offers_to_db[\"offers\"].append({\"offer\": offer,\n",
    "                                   \"conditions\":list(conditions)})\n",
    "    time.sleep(2)"
   ]
  },
  {
   "cell_type": "code",
   "execution_count": 51,
   "metadata": {},
   "outputs": [],
   "source": [
    "import json\n",
    "\n",
    "with open(\"factorial-offers.json\", 'w') as fout:\n",
    "    json.dump(offers_to_db, fout, indent=2)"
   ]
  },
  {
   "cell_type": "code",
   "execution_count": 52,
   "metadata": {},
   "outputs": [],
   "source": [
    "import json\n",
    "import uuid\n",
    "from azure.cosmos import exceptions, CosmosClient, PartitionKey\n",
    "import os \n",
    "from dotenv import load_dotenv\n",
    "\n",
    "load_dotenv()\n",
    "\n",
    "endpoint = os.getenv(\"UDEMY_TRAININGS_ENDPOINT\")\n",
    "key = os.getenv(\"UDEMY_TRAININGS_PRIMARY_KEY\")\n",
    "client = CosmosClient(endpoint, key)\n",
    "\n",
    "database_name = os.getenv(\"UDEMY_TRAININGS_DATABASE\")\n",
    "container_name = os.getenv(\"FACTORIAL_CAREERS_CONTAINER\")\n",
    "database = client.create_database_if_not_exists(id=database_name)\n",
    "container = database.create_container_if_not_exists(\n",
    "    id=container_name,\n",
    "    partition_key=PartitionKey(path=\"/id\"),\n",
    "    offer_throughput=400\n",
    ")\n",
    "\n",
    "with open('factorial-offers.json') as f:\n",
    "    data = json.load(f)\n",
    "\n",
    "for offer in data['offers']:\n",
    "    offer['id'] = str(uuid.uuid4())\n",
    "    container.create_item(body=offer)"
   ]
  }
 ],
 "metadata": {
  "kernelspec": {
   "display_name": "factorial",
   "language": "python",
   "name": "python3"
  },
  "language_info": {
   "codemirror_mode": {
    "name": "ipython",
    "version": 3
   },
   "file_extension": ".py",
   "mimetype": "text/x-python",
   "name": "python",
   "nbconvert_exporter": "python",
   "pygments_lexer": "ipython3",
   "version": "3.12.5"
  }
 },
 "nbformat": 4,
 "nbformat_minor": 2
}
